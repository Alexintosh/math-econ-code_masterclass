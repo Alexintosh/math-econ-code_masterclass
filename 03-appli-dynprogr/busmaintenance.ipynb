{
 "cells": [
  {
   "cell_type": "code",
   "execution_count": null,
   "metadata": {
    "collapsed": true
   },
   "outputs": [],
   "source": [
    "library('Matrix')\n",
    "library('gurobi')\n",
    "nbX = 10 #30\n",
    "nbT = 40 #40\n",
    "nbY = 2 # choice set: 1=run as usual; 2=overhaul\n",
    "\n",
    "IdX = sparseMatrix(1:nbX,1:nbX)\n",
    "LX=sparseMatrix(c(nbX,1:(nbX-1)),1:nbX)\n",
    "RX=sparseMatrix(1:nbX,rep(1,nbX),dims=c(nbX,nbX))\n",
    "P=kronecker(c(1,0),0.75*IdX+0.25*LX)+kronecker(c(0,1),RX)\n",
    "\n",
    "IdT = sparseMatrix(1:nbT,1:nbT)\n",
    "NT = sparseMatrix(1:(nbT-1),2:nbT,dims = c(nbT,nbT))\n",
    "A = kronecker(kronecker(IdT,matrix(1,nbY,1)),IdX ) - kronecker(NT,P)\n",
    "\n",
    "overhaulCost = 8E3 \n",
    "maintCost = function(x)(x*5E2)\n",
    "beta = 0.9\n",
    "n1_x = rep(1,nbX)\n",
    "\n",
    "b_xt = c(n1_x,rep(0,nbX*(nbT-1)))\n",
    "u_xy = c(-maintCost(1:(nbX-1)),rep(-overhaulCost,nbX+1))\n",
    "u_xyt = c(kronecker(beta^(1:nbT),u_xy))\n",
    "\n",
    "\n",
    "result   = gurobi ( list(A=A,obj=c(b_xt),modelsense=\"min\",rhs=u_xyt,sense=\">\",lb=-Inf), params=list(OutputFlag=0) ) \n"
   ]
  },
  {
   "cell_type": "markdown",
   "metadata": {},
   "source": [
    "## Backward induction"
   ]
  },
  {
   "cell_type": "code",
   "execution_count": null,
   "metadata": {
    "collapsed": true
   },
   "outputs": [],
   "source": [
    "U_x_t = matrix(0,nbX,nbT)\n",
    "contVals = apply(X = array(u_xyt,dim=c(nbX,nbY,nbT))[,,nbT],FUN = max,MARGIN = 1) \n",
    "U_x_t[,nbT] = contVals\n",
    "\n",
    "for (t in (nbT-1):1)\n",
    "{\n",
    "  \n",
    "  myopic = array(u_xyt,dim=c(nbX,nbY,nbT))[,,t]\n",
    "  Econtvals = matrix(P %*% contVals,nrow=nbX)\n",
    "  \n",
    "  contVals = apply(X = myopic + Econtvals ,FUN = max,MARGIN = 1) \n",
    "  U_x_t[,t] = contVals\n",
    "  \n",
    "}\n",
    "U_x_t_gurobi = array(result$x,dim=c(nbX,nbT))\n",
    "print(U_x_t_gurobi[,1])\n",
    "print(U_x_t[,1])\n"
   ]
  }
 ],
 "metadata": {
  "kernelspec": {
   "display_name": "R [conda env:R]",
   "language": "R",
   "name": "conda-env-R-r"
  },
  "language_info": {
   "codemirror_mode": "r",
   "file_extension": ".r",
   "mimetype": "text/x-r-source",
   "name": "R",
   "pygments_lexer": "r",
   "version": "3.4.2"
  }
 },
 "nbformat": 4,
 "nbformat_minor": 2
}
