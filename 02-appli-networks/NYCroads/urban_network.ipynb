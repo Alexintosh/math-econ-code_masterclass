{
 "cells": [
  {
   "cell_type": "code",
   "execution_count": 1,
   "metadata": {
    "collapsed": true
   },
   "outputs": [],
   "source": [
    "# Shortest path problem in the NYC road subway\n",
    "#\n",
    "# Reference: \n",
    "# Charpentier, A., Galichon, A., Vernet, L. (2017).  \n",
    "# \"Equilibrium for spatial allocation problems on networks\"\n",
    "#\n",
    "# This code was written by Lucas Vernet  \n",
    "#\n",
    "#\n",
    "#\n",
    "# to get coordinates associated with an address:\n",
    "# https://www.latlong.net/convert-address-to-lat-long.html"
   ]
  },
  {
   "cell_type": "code",
   "execution_count": 3,
   "metadata": {},
   "outputs": [
    {
     "name": "stderr",
     "output_type": "stream",
     "text": [
      "Loading required package: slam\n"
     ]
    },
    {
     "ename": "ERROR",
     "evalue": "Error in library(\"rgdal\"): there is no package called ‘rgdal’\n",
     "output_type": "error",
     "traceback": [
      "Error in library(\"rgdal\"): there is no package called ‘rgdal’\nTraceback:\n",
      "1. library(\"rgdal\")",
      "2. stop(txt, domain = NA)"
     ]
    }
   ],
   "source": [
    "library('Matrix')\n",
    "library('gurobi')\n",
    "library('rgdal')\n",
    "library('rdist')"
   ]
  },
  {
   "cell_type": "code",
   "execution_count": 4,
   "metadata": {
    "collapsed": true
   },
   "outputs": [],
   "source": [
    "load('DataNYC.RData')"
   ]
  },
  {
   "cell_type": "markdown",
   "metadata": {},
   "source": [
    "## Function shortest path"
   ]
  },
  {
   "cell_type": "code",
   "execution_count": null,
   "metadata": {
    "collapsed": true
   },
   "outputs": [],
   "source": [
    "shortestPath = function (arcs, nodes, originNode, destinationNode)\n",
    "{\n",
    "  \n",
    "  nbNodes = dim(nodes)[1]\n",
    "  nbArcs = dim(arcs)[1]\n",
    "  n = rep(0,nbNodes)\n",
    "  n[c(originNode,destinationNode)]=c(-1,1)\n",
    "  Nabla =  sparseMatrix(i=1:nbArcs,j=arcs[,1],dims=c(nbArcs,nbNodes),x=-1) + sparseMatrix(i=1:nbArcs,j=arcs[,2],dims=c(nbArcs,nbNodes),x=1)\n",
    "  Phi <--arcs[,3]\n",
    "  \n",
    "  result = gurobi ( list(A=t(Nabla),obj=Phi,modelsense='max',rhs=n,sense='=',start=matrix(0,nbArcs,1)), params=NULL)\n",
    "  pi = result$x\n",
    "  distance = -result$objval\n",
    "  \n",
    "  cont = TRUE\n",
    "  i = originNode\n",
    "  eqpath = which(pi>0)\n",
    "  rank = 0\n",
    "  nodespath=c(0)\n",
    "  nodespath[rank+1]=i\n",
    "  while(cont)\n",
    "  { \n",
    "    rank = rank+1\n",
    "    leavingi = which(Nabla[,i]==-1)\n",
    "    a = intersect(eqpath,leavingi)[1]\n",
    "    j = which(Nabla[a,]==1)[1]\n",
    "    i = j\n",
    "    nodespath[rank+1]=i\n",
    "    if(j==destinationNode) {cont<-FALSE}  \n",
    "  }\n",
    "  \n",
    "  return(nodespath)\n",
    "  \n",
    "  plot(shpNYC)\n",
    "  points(nodes[nodespath,], col=\"red\")\n",
    "}"
   ]
  },
  {
   "cell_type": "markdown",
   "metadata": {},
   "source": [
    "## Excecute the function"
   ]
  },
  {
   "cell_type": "code",
   "execution_count": null,
   "metadata": {
    "collapsed": true
   },
   "outputs": [],
   "source": [
    "StartGPS = matrix(c(-73.995167,40.728936),ncol=2)\n",
    "FinishGPS = matrix(c(-74.090871,40.614594),ncol=2)\n",
    "StartNAD83 = project(StartGPS,\"+proj=lcc +lat_1=40.66666666666666 +lat_2=41.03333333333333 +lat_0=40.16666666666666 +lon_0=-74 +x_0=300000 +y_0=0 +datum=NAD83 +units=us-ft +no_defs\")\n",
    "FinishNAD83 = project(FinishGPS,\"+proj=lcc +lat_1=40.66666666666666 +lat_2=41.03333333333333 +lat_0=40.16666666666666 +lon_0=-74 +x_0=300000 +y_0=0 +datum=NAD83 +units=us-ft +no_defs\")\n",
    "StartNode = which.min(cdist(StartNAD83,nodes,metric = \"euclidean\"))\n",
    "FinishNode = which.min(cdist(FinishNAD83,nodes,metric = \"euclidean\"))\n",
    "nodespath = shortestPath(arcs,nodes,StartNode,FinishNode)"
   ]
  },
  {
   "cell_type": "markdown",
   "metadata": {},
   "source": [
    "## Plot the result"
   ]
  },
  {
   "cell_type": "code",
   "execution_count": null,
   "metadata": {
    "collapsed": true
   },
   "outputs": [],
   "source": [
    "plot(shpNYC)\n",
    "points(nodes[nodespath,], col=\"red\")"
   ]
  },
  {
   "cell_type": "markdown",
   "metadata": {},
   "source": [
    "## Function color attraction cells A REPRENDRE"
   ]
  },
  {
   "cell_type": "code",
   "execution_count": null,
   "metadata": {
    "collapsed": true
   },
   "outputs": [],
   "source": [
    "colorAttractionCells = function (sinks, sinksColors, nodes, arcs, igraphNYC) {\n",
    "  \n",
    "  nbSinks = length(sinks)\n",
    "  nbNodes = dim(nodes)[1]\n",
    "  nbArcs = dim(arcs)[1]\n",
    "  \n",
    "  namesNodes=as.character(1:nbNodes)\n",
    "  incomingFlow = matrix(rep(1/nbNodes,nbNodes), ncol = 1)\n",
    "  class(incomingFlow)=\"numeric\"\n",
    "  nexit= rep(0,nbNodes)\n",
    "  nexit[sinks]=  1 / nbSinks\n",
    "  n = - incomingFlow + nexit\n",
    "  Nabla =  sparseMatrix(i=1:nbArcs,j=arcs[,1],dims=c(nbArcs,nbNodes),x=-1) + sparseMatrix(i=1:nbArcs,j=arcs[,2],dims=c(nbArcs,nbNodes),x=1)\n",
    "  Phi <- -arcs[,3]\n",
    "  \n",
    "  result = gurobi ( list(A=t(Nabla),obj=Phi,modelsense='max',rhs=n,sense='=',start=matrix(0,nbArcs,1)), params=NULL)\n",
    "  pi = result$x\n",
    "  distance = -result$objval\n",
    "  eqpath = which(pi>0)\n",
    "  \n",
    "  labelColors=rep(\"SkyBlue2\",nbNodes)\n",
    "  labelColors[sinks]=sinksColors\n",
    "  \n",
    "  sizeNodes= rep(1,nbNodes)\n",
    "  sizeNodes[sinks]=4\n",
    "  \n",
    "  nbNodesSoFar = nbSinks\n",
    "  maxIter = nbNodes\n",
    "  \n",
    "  iter=1\n",
    "  frontiers=list()\n",
    "  for (s in 1:nbSinks) {frontiers[[s]]=sinks[s]}\n",
    "  \n",
    "  while((nbNodesSoFar<=nbNodes) & (iter<=maxIter))\n",
    "  {\n",
    "    for (s in 1:nbSinks)\n",
    "    { \n",
    "      newfrontier = c()\n",
    "      frontier = frontiers[[s]]\n",
    "      for (i in frontier)\n",
    "      {\n",
    "        arrivingati = which(Nabla[,i]==1)\n",
    "        thearcs = intersect(eqpath,arrivingati)\n",
    "        for (a in thearcs) { newfrontier = c(newfrontier,which(Nabla[a,]==-1)) } \n",
    "      }\n",
    "      if (!is.null(newfrontier)) {\n",
    "        labelColors[newfrontier] = sinksColors[s]\n",
    "        sizeNodes[newfrontier]=4\n",
    "        nbNodesSoFar = nbNodesSoFar+length(newfrontier)\n",
    "        frontiers[[s]]=newfrontier\n",
    "      }\n",
    "      \n",
    "    }\n",
    "    \n",
    "    iter=iter+1 \n",
    "  }\n",
    "  \n",
    "  \n",
    "  labelNodes = rep(NA,nbNodes)\n",
    "  labelNodes[sinks]=namesNodes[sinks]\n",
    "  # plot.igraph(igraphNYC,vertex.label=labelNodes, vertex.label.cex=1,vertex.color=labelColors,vertex.size=sizeNodes, edge.arrow.size=0, layout = nodes)\n",
    "  return(labelColors)\n",
    "  \n",
    "}"
   ]
  },
  {
   "cell_type": "markdown",
   "metadata": {},
   "source": [
    "## Attraction cells"
   ]
  },
  {
   "cell_type": "code",
   "execution_count": null,
   "metadata": {
    "collapsed": true
   },
   "outputs": [],
   "source": [
    "sinks=c(7,30040,60150)\n",
    "sinksColors=c(\"gold\",\"firebrick2\",\"forestgreen\")\n",
    "labelColors = colorAttractionCells(sinks, sinksColors, nodes, arcs, igraphNYC)\n",
    "plot(shpNYC)\n",
    "points(nodes, col=labelColors)"
   ]
  }
 ],
 "metadata": {
  "kernelspec": {
   "display_name": "R [conda env:R]",
   "language": "R",
   "name": "conda-env-R-r"
  },
  "language_info": {
   "codemirror_mode": "r",
   "file_extension": ".r",
   "mimetype": "text/x-r-source",
   "name": "R",
   "pygments_lexer": "r",
   "version": "3.4.2"
  }
 },
 "nbformat": 4,
 "nbformat_minor": 2
}
