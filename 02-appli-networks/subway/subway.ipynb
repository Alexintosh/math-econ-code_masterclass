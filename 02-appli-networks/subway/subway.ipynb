{
 "cells": [
  {
   "cell_type": "code",
   "execution_count": null,
   "metadata": {
    "collapsed": true
   },
   "outputs": [],
   "source": [
    "#################################################\n",
    "###  Optimal Transport Methods in  Economics  ###\n",
    "#################################################\n",
    "##########       Alfred Galichon       ##########\n",
    "#################################################\n",
    "##########  Princeton University Press ##########\n",
    "#################################################\n",
    "#\n",
    "#\n",
    "#################################################\n",
    "###           PE 8.1: Shortest path           ###\n",
    "###           via linear programming          ###\n",
    "#################################################"
   ]
  },
  {
   "cell_type": "code",
   "execution_count": null,
   "metadata": {
    "collapsed": true
   },
   "outputs": [],
   "source": [
    "library('gurobi')\n",
    "library('Matrix')\n",
    "\n",
    "# for Paris:\n",
    "city = 'Paris'\n",
    "originNode <- 84 #saint-germain des pres\n",
    "destinationNode<- 116 #trocadero\n",
    "themargin=-c(1.1,.6,.6,1.1)\n",
    "\n",
    "# for NYC\n",
    "# city = 'NYC'\n",
    "# originNode <- 84 #saint-germain des pres\n",
    "# destinationNode<- 116 #trocadero\n",
    "# originNode = 446 # Union Sq.\n",
    "# destinationNode = 465 # 59th St in Brooklyn\n",
    "# themargin=-c(1,1,.5,0.2)\n",
    "\n",
    "\n",
    "thePath = getwd()\n",
    "arcs = as.matrix(read.csv(paste0(thePath,\"/\", city, \"/arcs.csv\"),sep=\";\", header=FALSE)) # loads the data\n",
    "nodes = as.matrix(read.csv(paste0(thePath,\"/\", city,\"/nodes.csv\"),sep=\";\", header=FALSE)) # loads the data\n",
    "nbNodes = max(arcs[,1])\n",
    "nbArcs = dim(arcs)[1]\n",
    "\n",
    "namesNodes = nodes[,1]\n",
    "n = rep(0,nbNodes) # construct vector of exiting flow\n",
    "n[c(originNode,destinationNode)]=c(-1,1)"
   ]
  },
  {
   "cell_type": "markdown",
   "metadata": {},
   "source": [
    "## construct node-incidence matrix:"
   ]
  },
  {
   "cell_type": "code",
   "execution_count": null,
   "metadata": {
    "collapsed": true
   },
   "outputs": [],
   "source": [
    "Nabla =  sparseMatrix(i=1:nbArcs,j=arcs[,1],dims=c(nbArcs,nbNodes),x=-1) + sparseMatrix(i=1:nbArcs,j=arcs[,2],dims=c(nbArcs,nbNodes),x=1)\n",
    "\n",
    "Cost <- arcs[,3] # construct (minus) distance matrix"
   ]
  },
  {
   "cell_type": "markdown",
   "metadata": {},
   "source": [
    "## solve LP via Gurobi"
   ]
  },
  {
   "cell_type": "code",
   "execution_count": null,
   "metadata": {
    "collapsed": true
   },
   "outputs": [],
   "source": [
    "result = gurobi ( list(A=t(Nabla),obj=Cost,modelsense='min',rhs=n,sense='=',start=matrix(0,nbArcs,1)), params=NULL)\n",
    "pi = result$x\n",
    "distance = result$objval"
   ]
  },
  {
   "cell_type": "markdown",
   "metadata": {},
   "source": [
    "## deduce minimal distance path:"
   ]
  },
  {
   "cell_type": "code",
   "execution_count": null,
   "metadata": {
    "collapsed": true
   },
   "outputs": [],
   "source": [
    "cont = TRUE\n",
    "i = originNode\n",
    "writeLines(paste0(namesNodes[i],\" (#\", i,\")\"))\n",
    "eqpath = which(pi>0)\n",
    "rank = 0\n",
    "while(cont)\n",
    "{ \n",
    "  rank = rank+1\n",
    "  leavingi = which(Nabla[,i]==-1)\n",
    "  a = intersect(eqpath,leavingi)[1]\n",
    "  j = which(Nabla[a,]==1)[1]\n",
    "  writeLines(paste0(rank,\": \", namesNodes[j],\" (#\", j,\")\"))\n",
    "  i = j\n",
    "  if(j==destinationNode) {cont<-FALSE}  \n",
    "}\n"
   ]
  },
  {
   "cell_type": "markdown",
   "metadata": {},
   "source": [
    "## plotting the path"
   ]
  },
  {
   "cell_type": "code",
   "execution_count": null,
   "metadata": {
    "collapsed": true
   },
   "outputs": [],
   "source": [
    "require('igraph')\n",
    "geoCoordinates = nodes[,3:4]\n",
    "class(geoCoordinates)=\"numeric\"\n",
    "# mapCoordinates = nodes[,5:6]\n",
    "# class(mapCoordinates)=\"numeric\"\n",
    "nbNodes = max(arcs[,1])\n",
    "nbArcs = dim(arcs)[1]\n",
    "\n",
    "plotCurrentNetwork = function (network,curNode)\n",
    "{\n",
    "  sizeNodes= rep(1,nbNodes)\n",
    "  sizeNodes[originNode]=4\n",
    "  sizeNodes[destinationNode]=4\n",
    "  sizeNodes[curNode]=4\n",
    "  labelNodes = rep(NA,nbNodes)\n",
    "  labelNodes[originNode]=namesNodes[originNode]\n",
    "  labelNodes[destinationNode]=namesNodes[destinationNode]\n",
    "  labelNodes[curNode]=namesNodes[curNode]\n",
    "  plot.igraph(network,vertex.label=labelNodes, vertex.label.cex=1,vertex.size=sizeNodes, edge.arrow.size=0, layout = geoCoordinates, margin=themargin)\n",
    "  \n",
    "}\n",
    "\n",
    "thegraph=graph_from_edgelist(arcs[,1:2])\n",
    "\n",
    "labelColors=rep(\"SkyBlue2\",nbNodes)\n",
    "labelColors[originNode]=\"firebrick2\"\n",
    "labelColors[destinationNode]=\"forestgreen\"\n",
    "\n",
    "\n",
    "sizeNodes= rep(1,nbNodes)\n",
    "sizeNodes[originNode]=4\n",
    "sizeNodes[destinationNode]=4\n",
    "\n",
    "nbNodesSoFar = 1\n",
    "curpoint=originNode\n",
    "\n",
    "cont = TRUE\n",
    "i = originNode\n",
    "writeLines(paste0(namesNodes[i],\" (#\", i,\")\"))\n",
    "eqpath = which(pi>0)\n",
    "rank = 0\n",
    "plotCurrentNetwork(thegraph,i)\n",
    "\n",
    "while(cont)\n",
    "{ \n",
    "  rank = rank+1\n",
    "  leavingi = which(Nabla[,i]==-1)\n",
    "  a = intersect(eqpath,leavingi)[1]\n",
    "  j = which(Nabla[a,]==1)[1]\n",
    "  plotCurrentNetwork(thegraph,j)\n",
    "  writeLines(paste0(rank,\": \", namesNodes[j],\" (#\", j,\")\"))\n",
    "  i = j\n",
    "  if(j==destinationNode) {cont<-FALSE}  \n",
    "  Sys.sleep(0.5)\n",
    "}\n"
   ]
  }
 ],
 "metadata": {
  "kernelspec": {
   "display_name": "R [conda env:R]",
   "language": "R",
   "name": "conda-env-R-r"
  },
  "language_info": {
   "codemirror_mode": "r",
   "file_extension": ".r",
   "mimetype": "text/x-r-source",
   "name": "R",
   "pygments_lexer": "r",
   "version": "3.4.2"
  }
 },
 "nbformat": 4,
 "nbformat_minor": 2
}
